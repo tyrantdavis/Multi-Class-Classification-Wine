{
 "cells": [
  {
   "cell_type": "markdown",
   "id": "0a527906-e2a5-4a14-8b81-ed000ae2ce32",
   "metadata": {},
   "source": [
    "# Multinomial Logistic Regression - Wine"
   ]
  },
  {
   "cell_type": "markdown",
   "id": "c9e3695b-62c8-4bfd-9a51-2f9ba59a56e6",
   "metadata": {},
   "source": [
    "## Import Libraries"
   ]
  },
  {
   "cell_type": "code",
   "execution_count": 1,
   "id": "3f17d8df-71c6-4350-8f6f-5a7f7858f000",
   "metadata": {
    "scrolled": true
   },
   "outputs": [
    {
     "name": "stdout",
     "output_type": "stream",
     "text": [
      "Libraries used in this project:\n",
      "- NumPy 1.24.3\n",
      "- pandas 2.0.3\n",
      "- scikit-learn 1.3.2\n",
      "- Matplotlib 3.7.2\n",
      "- Seaborn 0.9.0\n",
      "- Python 3.8.18 | packaged by conda-forge | (default, Dec 23 2023, 17:23:49) \n",
      "[Clang 15.0.7 ]\n",
      "\n",
      "- Matplotlib 3.7.2\n",
      "\n",
      "\n",
      "Summary of software packages complete.\n",
      "\n"
     ]
    }
   ],
   "source": [
    "import warnings  # Suppress warnings\n",
    "\n",
    "warnings.filterwarnings(\"ignore\")\n",
    "\n",
    "import os  # Interact with the operating system.\n",
    "import sys  # Read system parameters.\n",
    "from io import StringIO  # Read and write strings as files\n",
    "from time import time\n",
    "from urllib.parse import urlparse  # Parse URL and extract path component\n",
    "\n",
    "import matplotlib  # Create charts.\n",
    "import matplotlib.pyplot as plt\n",
    "import numpy as np  # Work with multi-dimensional arrays and matrices.\n",
    "import pandas as pd  # Manipulate and analyze data frames.\n",
    "import requests  # Send HTTP requests\n",
    "import seaborn as sns  # Streamline charting.\n",
    "import sklearn  # Perform feature engineering and machine learning.\n",
    "from scipy.stats import zscore\n",
    "from sklearn import datasets  # ML datasets\n",
    "from sklearn.dummy import DummyClassifier\n",
    "from sklearn.linear_model import LogisticRegression\n",
    "from sklearn.metrics import (\n",
    "    accuracy_score,\n",
    "    classification_report,\n",
    "    confusion_matrix,\n",
    "    f1_score,\n",
    "    precision_score,\n",
    "    recall_score,\n",
    "    roc_auc_score,\n",
    "    roc_curve,\n",
    ")\n",
    "from sklearn.model_selection import train_test_split\n",
    "from sklearn.utils import shuffle\n",
    "\n",
    "# Summarize software libraries used.\n",
    "print(\"Libraries used in this project:\")\n",
    "print(\"- NumPy {}\".format(np.__version__))\n",
    "print(\"- pandas {}\".format(pd.__version__))\n",
    "print(\"- scikit-learn {}\".format(sklearn.__version__))\n",
    "print(\"- Matplotlib {}\".format(matplotlib.__version__))\n",
    "print(\"- Seaborn {}\".format(sns.__version__))\n",
    "print(\"- Python {}\\n\".format(sys.version))\n",
    "print(\"- Matplotlib {}\\n\".format(matplotlib.__version__))\n",
    "print(\"\\nSummary of software packages complete.\\n\")"
   ]
  },
  {
   "cell_type": "markdown",
   "id": "b6562e1a-0c90-4564-ac02-fe1b8a9fca6e",
   "metadata": {},
   "source": [
    "## Load Wine dataset.\n"
   ]
  },
  {
   "cell_type": "code",
   "execution_count": 16,
   "id": "2d491852-ad65-4e77-9f0d-f558d5ae3f4f",
   "metadata": {},
   "outputs": [
    {
     "name": "stdout",
     "output_type": "stream",
     "text": [
      "Loaded 178 wine records.\n"
     ]
    }
   ],
   "source": [
    "wine = datasets.load_wine()\n",
    "print(\"Loaded {} wine records.\".format(len(wine.data)))"
   ]
  },
  {
   "cell_type": "markdown",
   "id": "3a6b517b-d0ee-4e12-a7a9-bd228c7ac907",
   "metadata": {},
   "source": [
    "**Convert array to pandas DataFrame.**"
   ]
  },
  {
   "cell_type": "code",
   "execution_count": 3,
   "id": "882f7e9e-0141-4206-98d0-27c141877beb",
   "metadata": {},
   "outputs": [],
   "source": [
    "df = pd.DataFrame(wine[\"data\"], columns=wine[\"feature_names\"])\n",
    "df[\"target\"] = wine[\"target\"]"
   ]
  },
  {
   "cell_type": "markdown",
   "id": "8cf76201-4f24-4990-adea-78f787a4e8da",
   "metadata": {},
   "source": [
    "**Shuffle the dataset.**"
   ]
  },
  {
   "cell_type": "code",
   "execution_count": 4,
   "id": "90fbe43c-3692-4d90-a558-86d6654cc0b7",
   "metadata": {},
   "outputs": [],
   "source": [
    "df = shuffle(df.copy(), random_state=765)\n",
    "df.reset_index(inplace=True, drop=True)"
   ]
  },
  {
   "cell_type": "markdown",
   "id": "abb7817e-195f-434a-befb-2fe530fdd21a",
   "metadata": {},
   "source": [
    "## Explore Data"
   ]
  },
  {
   "cell_type": "code",
   "execution_count": 10,
   "id": "4d3a8def-b4ba-4c30-9341-c0384bbc5099",
   "metadata": {},
   "outputs": [
    {
     "name": "stdout",
     "output_type": "stream",
     "text": [
      "<class 'pandas.core.frame.DataFrame'>\n",
      "RangeIndex: 178 entries, 0 to 177\n",
      "Data columns (total 14 columns):\n",
      " #   Column                        Non-Null Count  Dtype  \n",
      "---  ------                        --------------  -----  \n",
      " 0   alcohol                       178 non-null    float64\n",
      " 1   malic_acid                    178 non-null    float64\n",
      " 2   ash                           178 non-null    float64\n",
      " 3   alcalinity_of_ash             178 non-null    float64\n",
      " 4   magnesium                     178 non-null    float64\n",
      " 5   total_phenols                 178 non-null    float64\n",
      " 6   flavanoids                    178 non-null    float64\n",
      " 7   nonflavanoid_phenols          178 non-null    float64\n",
      " 8   proanthocyanins               178 non-null    float64\n",
      " 9   color_intensity               178 non-null    float64\n",
      " 10  hue                           178 non-null    float64\n",
      " 11  od280/od315_of_diluted_wines  178 non-null    float64\n",
      " 12  proline                       178 non-null    float64\n",
      " 13  target                        178 non-null    int64  \n",
      "dtypes: float64(13), int64(1)\n",
      "memory usage: 19.6 KB\n"
     ]
    }
   ],
   "source": [
    "df.info()"
   ]
  },
  {
   "cell_type": "markdown",
   "id": "ae7c6026-ef85-4cef-9096-4449e7f97b50",
   "metadata": {},
   "source": [
    "**Spotlights** \n",
    "\n",
    "- The dataset comprises 178 entries and 14 features.\n",
    "- All features are represented as floating-point numbers, with the exception of the target feature, which consists of integer values. This target feature indicates the wine classification, categorized as 0, 1, or 2, thus creating a multi-class classification challenge.\n",
    "- There are no instances of missing data; every entry is complete across all features.\n",
    "- The majority of the features pertain to the chemical properties of the wine, such as alcohol content, magnesium concentration, and phenol count. Additionally, some features relate to the visual characteristics of the wine, including color intensity and hue.\n",
    "- Overall, the dataset is quite clean and consistent, although it could still benefit from some preparatory steps."
   ]
  },
  {
   "cell_type": "markdown",
   "id": "b0393055-5c44-40e8-97fc-c941e5f44281",
   "metadata": {},
   "source": [
    "**Examine the First 5 Records**"
   ]
  },
  {
   "cell_type": "code",
   "execution_count": 9,
   "id": "7b48bc12-72dd-472e-ba17-49e05bcd2c78",
   "metadata": {},
   "outputs": [
    {
     "data": {
      "text/html": [
       "<div>\n",
       "<style scoped>\n",
       "    .dataframe tbody tr th:only-of-type {\n",
       "        vertical-align: middle;\n",
       "    }\n",
       "\n",
       "    .dataframe tbody tr th {\n",
       "        vertical-align: top;\n",
       "    }\n",
       "\n",
       "    .dataframe thead th {\n",
       "        text-align: right;\n",
       "    }\n",
       "</style>\n",
       "<table border=\"1\" class=\"dataframe\">\n",
       "  <thead>\n",
       "    <tr style=\"text-align: right;\">\n",
       "      <th></th>\n",
       "      <th>alcohol</th>\n",
       "      <th>malic_acid</th>\n",
       "      <th>ash</th>\n",
       "      <th>alcalinity_of_ash</th>\n",
       "      <th>magnesium</th>\n",
       "      <th>total_phenols</th>\n",
       "      <th>flavanoids</th>\n",
       "      <th>nonflavanoid_phenols</th>\n",
       "      <th>proanthocyanins</th>\n",
       "      <th>color_intensity</th>\n",
       "      <th>hue</th>\n",
       "      <th>od280/od315_of_diluted_wines</th>\n",
       "      <th>proline</th>\n",
       "      <th>target</th>\n",
       "    </tr>\n",
       "  </thead>\n",
       "  <tbody>\n",
       "    <tr>\n",
       "      <th>0</th>\n",
       "      <td>13.69</td>\n",
       "      <td>3.26</td>\n",
       "      <td>2.54</td>\n",
       "      <td>20.0</td>\n",
       "      <td>107.0</td>\n",
       "      <td>1.83</td>\n",
       "      <td>0.56</td>\n",
       "      <td>0.50</td>\n",
       "      <td>0.80</td>\n",
       "      <td>5.88</td>\n",
       "      <td>0.96</td>\n",
       "      <td>1.82</td>\n",
       "      <td>680.0</td>\n",
       "      <td>2</td>\n",
       "    </tr>\n",
       "    <tr>\n",
       "      <th>1</th>\n",
       "      <td>12.67</td>\n",
       "      <td>0.98</td>\n",
       "      <td>2.24</td>\n",
       "      <td>18.0</td>\n",
       "      <td>99.0</td>\n",
       "      <td>2.20</td>\n",
       "      <td>1.94</td>\n",
       "      <td>0.30</td>\n",
       "      <td>1.46</td>\n",
       "      <td>2.62</td>\n",
       "      <td>1.23</td>\n",
       "      <td>3.16</td>\n",
       "      <td>450.0</td>\n",
       "      <td>1</td>\n",
       "    </tr>\n",
       "    <tr>\n",
       "      <th>2</th>\n",
       "      <td>13.86</td>\n",
       "      <td>1.35</td>\n",
       "      <td>2.27</td>\n",
       "      <td>16.0</td>\n",
       "      <td>98.0</td>\n",
       "      <td>2.98</td>\n",
       "      <td>3.15</td>\n",
       "      <td>0.22</td>\n",
       "      <td>1.85</td>\n",
       "      <td>7.22</td>\n",
       "      <td>1.01</td>\n",
       "      <td>3.55</td>\n",
       "      <td>1045.0</td>\n",
       "      <td>0</td>\n",
       "    </tr>\n",
       "    <tr>\n",
       "      <th>3</th>\n",
       "      <td>13.73</td>\n",
       "      <td>1.50</td>\n",
       "      <td>2.70</td>\n",
       "      <td>22.5</td>\n",
       "      <td>101.0</td>\n",
       "      <td>3.00</td>\n",
       "      <td>3.25</td>\n",
       "      <td>0.29</td>\n",
       "      <td>2.38</td>\n",
       "      <td>5.70</td>\n",
       "      <td>1.19</td>\n",
       "      <td>2.71</td>\n",
       "      <td>1285.0</td>\n",
       "      <td>0</td>\n",
       "    </tr>\n",
       "    <tr>\n",
       "      <th>4</th>\n",
       "      <td>13.41</td>\n",
       "      <td>3.84</td>\n",
       "      <td>2.12</td>\n",
       "      <td>18.8</td>\n",
       "      <td>90.0</td>\n",
       "      <td>2.45</td>\n",
       "      <td>2.68</td>\n",
       "      <td>0.27</td>\n",
       "      <td>1.48</td>\n",
       "      <td>4.28</td>\n",
       "      <td>0.91</td>\n",
       "      <td>3.00</td>\n",
       "      <td>1035.0</td>\n",
       "      <td>0</td>\n",
       "    </tr>\n",
       "  </tbody>\n",
       "</table>\n",
       "</div>"
      ],
      "text/plain": [
       "   alcohol  malic_acid   ash  alcalinity_of_ash  magnesium  total_phenols  \\\n",
       "0    13.69        3.26  2.54               20.0      107.0           1.83   \n",
       "1    12.67        0.98  2.24               18.0       99.0           2.20   \n",
       "2    13.86        1.35  2.27               16.0       98.0           2.98   \n",
       "3    13.73        1.50  2.70               22.5      101.0           3.00   \n",
       "4    13.41        3.84  2.12               18.8       90.0           2.45   \n",
       "\n",
       "   flavanoids  nonflavanoid_phenols  proanthocyanins  color_intensity   hue  \\\n",
       "0        0.56                  0.50             0.80             5.88  0.96   \n",
       "1        1.94                  0.30             1.46             2.62  1.23   \n",
       "2        3.15                  0.22             1.85             7.22  1.01   \n",
       "3        3.25                  0.29             2.38             5.70  1.19   \n",
       "4        2.68                  0.27             1.48             4.28  0.91   \n",
       "\n",
       "   od280/od315_of_diluted_wines  proline  target  \n",
       "0                          1.82    680.0       2  \n",
       "1                          3.16    450.0       1  \n",
       "2                          3.55   1045.0       0  \n",
       "3                          2.71   1285.0       0  \n",
       "4                          3.00   1035.0       0  "
      ]
     },
     "execution_count": 9,
     "metadata": {},
     "output_type": "execute_result"
    }
   ],
   "source": [
    "df.head()"
   ]
  },
  {
   "cell_type": "markdown",
   "id": "ac78a6f1-48d0-4ef5-819a-6bf1e9dc89bd",
   "metadata": {},
   "source": [
    "### Analyze Summary Statistics"
   ]
  },
  {
   "cell_type": "code",
   "execution_count": 6,
   "id": "26f59ece-a5e8-44e7-a1ed-f93c1eccb563",
   "metadata": {},
   "outputs": [
    {
     "name": "stdout",
     "output_type": "stream",
     "text": [
      "       alcohol  malic_acid    ash  alcalinity_of_ash  magnesium  \\\n",
      "count   178.00      178.00 178.00             178.00     178.00   \n",
      "mean     13.00        2.34   2.37              19.49      99.74   \n",
      "std       0.81        1.12   0.27               3.34      14.28   \n",
      "min      11.03        0.74   1.36              10.60      70.00   \n",
      "25%      12.36        1.60   2.21              17.20      88.00   \n",
      "50%      13.05        1.87   2.36              19.50      98.00   \n",
      "75%      13.68        3.08   2.56              21.50     107.00   \n",
      "max      14.83        5.80   3.23              30.00     162.00   \n",
      "\n",
      "       total_phenols  flavanoids  nonflavanoid_phenols  proanthocyanins  \\\n",
      "count         178.00      178.00                178.00           178.00   \n",
      "mean            2.30        2.03                  0.36             1.59   \n",
      "std             0.63        1.00                  0.12             0.57   \n",
      "min             0.98        0.34                  0.13             0.41   \n",
      "25%             1.74        1.21                  0.27             1.25   \n",
      "50%             2.35        2.13                  0.34             1.56   \n",
      "75%             2.80        2.88                  0.44             1.95   \n",
      "max             3.88        5.08                  0.66             3.58   \n",
      "\n",
      "       color_intensity    hue  od280/od315_of_diluted_wines  proline  target  \n",
      "count           178.00 178.00                        178.00   178.00  178.00  \n",
      "mean              5.06   0.96                          2.61   746.89    0.94  \n",
      "std               2.32   0.23                          0.71   314.91    0.78  \n",
      "min               1.28   0.48                          1.27   278.00    0.00  \n",
      "25%               3.22   0.78                          1.94   500.50    0.00  \n",
      "50%               4.69   0.96                          2.78   673.50    1.00  \n",
      "75%               6.20   1.12                          3.17   985.00    2.00  \n",
      "max              13.00   1.71                          4.00  1680.00    2.00  \n"
     ]
    }
   ],
   "source": [
    "with pd.option_context(\"float_format\", \"{:.2f}\".format):\n",
    "    print(df.describe())"
   ]
  },
  {
   "cell_type": "markdown",
   "id": "e03e9a1e-6e79-4f9d-8e44-df2d608ae3da",
   "metadata": {},
   "source": [
    "- A lack of expertise in wine or an understanding of alcohol chemistry, may make it challenging to discern which characteristics are crucial for classifying wine.\n",
    "- The data does not seem to present significant outliers for any of the characteristics, but a visual distribution will provide further clarity.\n",
    "- It is evident that the levels of magnesium and particularly proline are considerably higher compared to other features, indicating that some scaling may be necessary."
   ]
  }
 ],
 "metadata": {
  "kernelspec": {
   "display_name": "Python 3 (ipykernel)",
   "language": "python",
   "name": "python3"
  },
  "language_info": {
   "codemirror_mode": {
    "name": "ipython",
    "version": 3
   },
   "file_extension": ".py",
   "mimetype": "text/x-python",
   "name": "python",
   "nbconvert_exporter": "python",
   "pygments_lexer": "ipython3",
   "version": "3.8.18"
  }
 },
 "nbformat": 4,
 "nbformat_minor": 5
}
