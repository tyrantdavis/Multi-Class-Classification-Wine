{
 "cells": [
  {
   "cell_type": "markdown",
   "id": "0a527906-e2a5-4a14-8b81-ed000ae2ce32",
   "metadata": {},
   "source": [
    "# Multinomial Logistic Regression - Wine"
   ]
  },
  {
   "cell_type": "markdown",
   "id": "c9e3695b-62c8-4bfd-9a51-2f9ba59a56e6",
   "metadata": {},
   "source": [
    "## Import Libraries"
   ]
  },
  {
   "cell_type": "code",
   "execution_count": 1,
   "id": "3f17d8df-71c6-4350-8f6f-5a7f7858f000",
   "metadata": {
    "scrolled": true
   },
   "outputs": [
    {
     "name": "stdout",
     "output_type": "stream",
     "text": [
      "Libraries used in this project:\n",
      "- NumPy 1.24.3\n",
      "- pandas 2.0.3\n",
      "- scikit-learn 1.3.2\n",
      "- Matplotlib 3.7.2\n",
      "- Seaborn 0.9.0\n",
      "- Python 3.8.18 | packaged by conda-forge | (default, Dec 23 2023, 17:23:49) \n",
      "[Clang 15.0.7 ]\n",
      "\n",
      "- Matplotlib 3.7.2\n",
      "\n",
      "\n",
      "Summary of software packages complete.\n",
      "\n"
     ]
    }
   ],
   "source": [
    "import warnings  # Suppress warnings\n",
    "\n",
    "warnings.filterwarnings(\"ignore\")\n",
    "\n",
    "import os  # Interact with the operating system.\n",
    "import sys  # Read system parameters.\n",
    "from io import StringIO  # Read and write strings as files\n",
    "from time import time\n",
    "from urllib.parse import urlparse  # Parse URL and extract path component\n",
    "\n",
    "import matplotlib  # Create charts.\n",
    "import matplotlib.pyplot as plt\n",
    "import numpy as np  # Work with multi-dimensional arrays and matrices.\n",
    "import pandas as pd  # Manipulate and analyze data frames.\n",
    "import requests  # Send HTTP requests\n",
    "import seaborn as sns  # Streamline charting.\n",
    "import sklearn  # Perform feature engineering and machine learning.\n",
    "from scipy.stats import zscore\n",
    "from sklearn import datasets  # ML datasets\n",
    "from sklearn.dummy import DummyClassifier\n",
    "from sklearn.linear_model import LogisticRegression\n",
    "from sklearn.metrics import (\n",
    "    accuracy_score,\n",
    "    classification_report,\n",
    "    confusion_matrix,\n",
    "    f1_score,\n",
    "    precision_score,\n",
    "    recall_score,\n",
    "    roc_auc_score,\n",
    "    roc_curve,\n",
    ")\n",
    "from sklearn.model_selection import train_test_split\n",
    "from sklearn.utils import shuffle\n",
    "\n",
    "# Summarize software libraries used.\n",
    "print(\"Libraries used in this project:\")\n",
    "print(\"- NumPy {}\".format(np.__version__))\n",
    "print(\"- pandas {}\".format(pd.__version__))\n",
    "print(\"- scikit-learn {}\".format(sklearn.__version__))\n",
    "print(\"- Matplotlib {}\".format(matplotlib.__version__))\n",
    "print(\"- Seaborn {}\".format(sns.__version__))\n",
    "print(\"- Python {}\\n\".format(sys.version))\n",
    "print(\"- Matplotlib {}\\n\".format(matplotlib.__version__))\n",
    "print(\"\\nSummary of software packages complete.\\n\")"
   ]
  },
  {
   "cell_type": "markdown",
   "id": "b6562e1a-0c90-4564-ac02-fe1b8a9fca6e",
   "metadata": {},
   "source": [
    "## Load Wine dataset.\n"
   ]
  },
  {
   "cell_type": "code",
   "execution_count": 2,
   "id": "2d491852-ad65-4e77-9f0d-f558d5ae3f4f",
   "metadata": {},
   "outputs": [
    {
     "name": "stdout",
     "output_type": "stream",
     "text": [
      "Loaded 178 wine records.\n"
     ]
    }
   ],
   "source": [
    "wine = datasets.load_wine()\n",
    "print(\"Loaded {} wine records.\".format(len(wine.data)))"
   ]
  },
  {
   "cell_type": "markdown",
   "id": "3a6b517b-d0ee-4e12-a7a9-bd228c7ac907",
   "metadata": {},
   "source": [
    "**Convert array to pandas DataFrame.**"
   ]
  },
  {
   "cell_type": "code",
   "execution_count": 3,
   "id": "882f7e9e-0141-4206-98d0-27c141877beb",
   "metadata": {},
   "outputs": [],
   "source": [
    "df = pd.DataFrame(wine[\"data\"], columns=wine[\"feature_names\"])\n",
    "df[\"target\"] = wine[\"target\"]"
   ]
  },
  {
   "cell_type": "markdown",
   "id": "8cf76201-4f24-4990-adea-78f787a4e8da",
   "metadata": {},
   "source": [
    "**Shuffle the dataset.**"
   ]
  },
  {
   "cell_type": "code",
   "execution_count": 4,
   "id": "90fbe43c-3692-4d90-a558-86d6654cc0b7",
   "metadata": {},
   "outputs": [],
   "source": [
    "df = shuffle(df.copy(), random_state=765)\n",
    "df.reset_index(inplace=True, drop=True)"
   ]
  }
 ],
 "metadata": {
  "kernelspec": {
   "display_name": "Python 3 (ipykernel)",
   "language": "python",
   "name": "python3"
  },
  "language_info": {
   "codemirror_mode": {
    "name": "ipython",
    "version": 3
   },
   "file_extension": ".py",
   "mimetype": "text/x-python",
   "name": "python",
   "nbconvert_exporter": "python",
   "pygments_lexer": "ipython3",
   "version": "3.8.18"
  }
 },
 "nbformat": 4,
 "nbformat_minor": 5
}
